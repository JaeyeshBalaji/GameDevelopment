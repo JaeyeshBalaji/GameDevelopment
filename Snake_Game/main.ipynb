{
 "cells": [
  {
   "cell_type": "markdown",
   "source": [
    "# Day 20 and 21 : Snake Game"
   ],
   "metadata": {
    "collapsed": false
   },
   "id": "5915199e10f979a1"
  },
  {
   "cell_type": "markdown",
   "source": [
    "## Made in seven parts :\n",
    "\n",
    "## 1. Create a snake body\n",
    "## 2. Move the snake\n",
    "## 3. Create a snake food\n",
    "## 4. Detect collision with food\n",
    "## 5. Create a scoreboard\n",
    "## 6. Detect collision with wall\n",
    "## 7. Detect collision with tail"
   ],
   "metadata": {
    "collapsed": false
   },
   "id": "352c1429006bc861"
  },
  {
   "cell_type": "code",
   "execution_count": null,
   "outputs": [],
   "source": [],
   "metadata": {
    "collapsed": false
   },
   "id": "921c099cc45ed7cb"
  }
 ],
 "metadata": {
  "kernelspec": {
   "display_name": "Python 3",
   "language": "python",
   "name": "python3"
  },
  "language_info": {
   "codemirror_mode": {
    "name": "ipython",
    "version": 2
   },
   "file_extension": ".py",
   "mimetype": "text/x-python",
   "name": "python",
   "nbconvert_exporter": "python",
   "pygments_lexer": "ipython2",
   "version": "2.7.6"
  }
 },
 "nbformat": 4,
 "nbformat_minor": 5
}
